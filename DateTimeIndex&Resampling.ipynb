{
 "cells": [
  {
   "cell_type": "code",
   "execution_count": 1,
   "metadata": {},
   "outputs": [],
   "source": [
    "import pandas as pd\n",
    "import numpy as np"
   ]
  },
  {
   "cell_type": "code",
   "execution_count": 3,
   "metadata": {},
   "outputs": [
    {
     "data": {
      "text/html": [
       "<div>\n",
       "<style scoped>\n",
       "    .dataframe tbody tr th:only-of-type {\n",
       "        vertical-align: middle;\n",
       "    }\n",
       "\n",
       "    .dataframe tbody tr th {\n",
       "        vertical-align: top;\n",
       "    }\n",
       "\n",
       "    .dataframe thead th {\n",
       "        text-align: right;\n",
       "    }\n",
       "</style>\n",
       "<table border=\"1\" class=\"dataframe\">\n",
       "  <thead>\n",
       "    <tr style=\"text-align: right;\">\n",
       "      <th></th>\n",
       "      <th>Date</th>\n",
       "      <th>Open</th>\n",
       "      <th>High</th>\n",
       "      <th>Low</th>\n",
       "      <th>Close</th>\n",
       "      <th>Adj Close</th>\n",
       "      <th>Volume</th>\n",
       "    </tr>\n",
       "  </thead>\n",
       "  <tbody>\n",
       "    <tr>\n",
       "      <th>0</th>\n",
       "      <td>2015-12-17</td>\n",
       "      <td>28.004999</td>\n",
       "      <td>28.062500</td>\n",
       "      <td>27.245001</td>\n",
       "      <td>27.245001</td>\n",
       "      <td>25.241716</td>\n",
       "      <td>179091200</td>\n",
       "    </tr>\n",
       "    <tr>\n",
       "      <th>1</th>\n",
       "      <td>2015-12-18</td>\n",
       "      <td>27.227501</td>\n",
       "      <td>27.379999</td>\n",
       "      <td>26.452499</td>\n",
       "      <td>26.507500</td>\n",
       "      <td>24.558443</td>\n",
       "      <td>385813200</td>\n",
       "    </tr>\n",
       "    <tr>\n",
       "      <th>2</th>\n",
       "      <td>2015-12-21</td>\n",
       "      <td>26.820000</td>\n",
       "      <td>26.842501</td>\n",
       "      <td>26.392500</td>\n",
       "      <td>26.832500</td>\n",
       "      <td>24.859543</td>\n",
       "      <td>190362400</td>\n",
       "    </tr>\n",
       "    <tr>\n",
       "      <th>3</th>\n",
       "      <td>2015-12-22</td>\n",
       "      <td>26.850000</td>\n",
       "      <td>26.930000</td>\n",
       "      <td>26.612499</td>\n",
       "      <td>26.807501</td>\n",
       "      <td>24.836382</td>\n",
       "      <td>131157600</td>\n",
       "    </tr>\n",
       "    <tr>\n",
       "      <th>4</th>\n",
       "      <td>2015-12-23</td>\n",
       "      <td>26.817499</td>\n",
       "      <td>27.212500</td>\n",
       "      <td>26.799999</td>\n",
       "      <td>27.152500</td>\n",
       "      <td>25.156017</td>\n",
       "      <td>130629600</td>\n",
       "    </tr>\n",
       "  </tbody>\n",
       "</table>\n",
       "</div>"
      ],
      "text/plain": [
       "         Date       Open       High        Low      Close  Adj Close  \\\n",
       "0  2015-12-17  28.004999  28.062500  27.245001  27.245001  25.241716   \n",
       "1  2015-12-18  27.227501  27.379999  26.452499  26.507500  24.558443   \n",
       "2  2015-12-21  26.820000  26.842501  26.392500  26.832500  24.859543   \n",
       "3  2015-12-22  26.850000  26.930000  26.612499  26.807501  24.836382   \n",
       "4  2015-12-23  26.817499  27.212500  26.799999  27.152500  25.156017   \n",
       "\n",
       "      Volume  \n",
       "0  179091200  \n",
       "1  385813200  \n",
       "2  190362400  \n",
       "3  131157600  \n",
       "4  130629600  "
      ]
     },
     "execution_count": 3,
     "metadata": {},
     "output_type": "execute_result"
    }
   ],
   "source": [
    "data_raw = pd.read_csv(\"data/AAPL.csv\")\n",
    "data_raw.head()"
   ]
  },
  {
   "cell_type": "code",
   "execution_count": 5,
   "metadata": {},
   "outputs": [
    {
     "data": {
      "text/plain": [
       "pandas.core.series.Series"
      ]
     },
     "execution_count": 5,
     "metadata": {},
     "output_type": "execute_result"
    }
   ],
   "source": [
    "type(data_raw.Date)"
   ]
  },
  {
   "cell_type": "code",
   "execution_count": 6,
   "metadata": {},
   "outputs": [
    {
     "data": {
      "text/plain": [
       "str"
      ]
     },
     "execution_count": 6,
     "metadata": {},
     "output_type": "execute_result"
    }
   ],
   "source": [
    "type(data_raw.Date[0])"
   ]
  },
  {
   "cell_type": "code",
   "execution_count": 7,
   "metadata": {},
   "outputs": [
    {
     "data": {
      "text/html": [
       "<div>\n",
       "<style scoped>\n",
       "    .dataframe tbody tr th:only-of-type {\n",
       "        vertical-align: middle;\n",
       "    }\n",
       "\n",
       "    .dataframe tbody tr th {\n",
       "        vertical-align: top;\n",
       "    }\n",
       "\n",
       "    .dataframe thead th {\n",
       "        text-align: right;\n",
       "    }\n",
       "</style>\n",
       "<table border=\"1\" class=\"dataframe\">\n",
       "  <thead>\n",
       "    <tr style=\"text-align: right;\">\n",
       "      <th></th>\n",
       "      <th>Date</th>\n",
       "      <th>Open</th>\n",
       "      <th>High</th>\n",
       "      <th>Low</th>\n",
       "      <th>Close</th>\n",
       "      <th>Adj Close</th>\n",
       "      <th>Volume</th>\n",
       "    </tr>\n",
       "  </thead>\n",
       "  <tbody>\n",
       "    <tr>\n",
       "      <th>0</th>\n",
       "      <td>2015-12-17</td>\n",
       "      <td>28.004999</td>\n",
       "      <td>28.062500</td>\n",
       "      <td>27.245001</td>\n",
       "      <td>27.245001</td>\n",
       "      <td>25.241716</td>\n",
       "      <td>179091200</td>\n",
       "    </tr>\n",
       "    <tr>\n",
       "      <th>1</th>\n",
       "      <td>2015-12-18</td>\n",
       "      <td>27.227501</td>\n",
       "      <td>27.379999</td>\n",
       "      <td>26.452499</td>\n",
       "      <td>26.507500</td>\n",
       "      <td>24.558443</td>\n",
       "      <td>385813200</td>\n",
       "    </tr>\n",
       "    <tr>\n",
       "      <th>2</th>\n",
       "      <td>2015-12-21</td>\n",
       "      <td>26.820000</td>\n",
       "      <td>26.842501</td>\n",
       "      <td>26.392500</td>\n",
       "      <td>26.832500</td>\n",
       "      <td>24.859543</td>\n",
       "      <td>190362400</td>\n",
       "    </tr>\n",
       "    <tr>\n",
       "      <th>3</th>\n",
       "      <td>2015-12-22</td>\n",
       "      <td>26.850000</td>\n",
       "      <td>26.930000</td>\n",
       "      <td>26.612499</td>\n",
       "      <td>26.807501</td>\n",
       "      <td>24.836382</td>\n",
       "      <td>131157600</td>\n",
       "    </tr>\n",
       "    <tr>\n",
       "      <th>4</th>\n",
       "      <td>2015-12-23</td>\n",
       "      <td>26.817499</td>\n",
       "      <td>27.212500</td>\n",
       "      <td>26.799999</td>\n",
       "      <td>27.152500</td>\n",
       "      <td>25.156017</td>\n",
       "      <td>130629600</td>\n",
       "    </tr>\n",
       "  </tbody>\n",
       "</table>\n",
       "</div>"
      ],
      "text/plain": [
       "        Date       Open       High        Low      Close  Adj Close     Volume\n",
       "0 2015-12-17  28.004999  28.062500  27.245001  27.245001  25.241716  179091200\n",
       "1 2015-12-18  27.227501  27.379999  26.452499  26.507500  24.558443  385813200\n",
       "2 2015-12-21  26.820000  26.842501  26.392500  26.832500  24.859543  190362400\n",
       "3 2015-12-22  26.850000  26.930000  26.612499  26.807501  24.836382  131157600\n",
       "4 2015-12-23  26.817499  27.212500  26.799999  27.152500  25.156017  130629600"
      ]
     },
     "execution_count": 7,
     "metadata": {},
     "output_type": "execute_result"
    }
   ],
   "source": [
    "data_raw_2 = pd.read_csv(\"data/AAPL.csv\", parse_dates=[\"Date\"])\n",
    "data_raw_2.head()"
   ]
  },
  {
   "cell_type": "code",
   "execution_count": 8,
   "metadata": {},
   "outputs": [
    {
     "data": {
      "text/plain": [
       "pandas._libs.tslibs.timestamps.Timestamp"
      ]
     },
     "execution_count": 8,
     "metadata": {},
     "output_type": "execute_result"
    }
   ],
   "source": [
    "type(data_raw_2.Date[0])"
   ]
  },
  {
   "cell_type": "code",
   "execution_count": 10,
   "metadata": {},
   "outputs": [
    {
     "data": {
      "text/plain": [
       "RangeIndex(start=0, stop=1259, step=1)"
      ]
     },
     "execution_count": 10,
     "metadata": {},
     "output_type": "execute_result"
    }
   ],
   "source": [
    "data_raw_2.index"
   ]
  },
  {
   "cell_type": "code",
   "execution_count": 9,
   "metadata": {},
   "outputs": [
    {
     "data": {
      "text/html": [
       "<div>\n",
       "<style scoped>\n",
       "    .dataframe tbody tr th:only-of-type {\n",
       "        vertical-align: middle;\n",
       "    }\n",
       "\n",
       "    .dataframe tbody tr th {\n",
       "        vertical-align: top;\n",
       "    }\n",
       "\n",
       "    .dataframe thead th {\n",
       "        text-align: right;\n",
       "    }\n",
       "</style>\n",
       "<table border=\"1\" class=\"dataframe\">\n",
       "  <thead>\n",
       "    <tr style=\"text-align: right;\">\n",
       "      <th></th>\n",
       "      <th>Open</th>\n",
       "      <th>High</th>\n",
       "      <th>Low</th>\n",
       "      <th>Close</th>\n",
       "      <th>Adj Close</th>\n",
       "      <th>Volume</th>\n",
       "    </tr>\n",
       "    <tr>\n",
       "      <th>Date</th>\n",
       "      <th></th>\n",
       "      <th></th>\n",
       "      <th></th>\n",
       "      <th></th>\n",
       "      <th></th>\n",
       "      <th></th>\n",
       "    </tr>\n",
       "  </thead>\n",
       "  <tbody>\n",
       "    <tr>\n",
       "      <th>2015-12-17</th>\n",
       "      <td>28.004999</td>\n",
       "      <td>28.062500</td>\n",
       "      <td>27.245001</td>\n",
       "      <td>27.245001</td>\n",
       "      <td>25.241716</td>\n",
       "      <td>179091200</td>\n",
       "    </tr>\n",
       "    <tr>\n",
       "      <th>2015-12-18</th>\n",
       "      <td>27.227501</td>\n",
       "      <td>27.379999</td>\n",
       "      <td>26.452499</td>\n",
       "      <td>26.507500</td>\n",
       "      <td>24.558443</td>\n",
       "      <td>385813200</td>\n",
       "    </tr>\n",
       "    <tr>\n",
       "      <th>2015-12-21</th>\n",
       "      <td>26.820000</td>\n",
       "      <td>26.842501</td>\n",
       "      <td>26.392500</td>\n",
       "      <td>26.832500</td>\n",
       "      <td>24.859543</td>\n",
       "      <td>190362400</td>\n",
       "    </tr>\n",
       "    <tr>\n",
       "      <th>2015-12-22</th>\n",
       "      <td>26.850000</td>\n",
       "      <td>26.930000</td>\n",
       "      <td>26.612499</td>\n",
       "      <td>26.807501</td>\n",
       "      <td>24.836382</td>\n",
       "      <td>131157600</td>\n",
       "    </tr>\n",
       "    <tr>\n",
       "      <th>2015-12-23</th>\n",
       "      <td>26.817499</td>\n",
       "      <td>27.212500</td>\n",
       "      <td>26.799999</td>\n",
       "      <td>27.152500</td>\n",
       "      <td>25.156017</td>\n",
       "      <td>130629600</td>\n",
       "    </tr>\n",
       "  </tbody>\n",
       "</table>\n",
       "</div>"
      ],
      "text/plain": [
       "                 Open       High        Low      Close  Adj Close     Volume\n",
       "Date                                                                        \n",
       "2015-12-17  28.004999  28.062500  27.245001  27.245001  25.241716  179091200\n",
       "2015-12-18  27.227501  27.379999  26.452499  26.507500  24.558443  385813200\n",
       "2015-12-21  26.820000  26.842501  26.392500  26.832500  24.859543  190362400\n",
       "2015-12-22  26.850000  26.930000  26.612499  26.807501  24.836382  131157600\n",
       "2015-12-23  26.817499  27.212500  26.799999  27.152500  25.156017  130629600"
      ]
     },
     "execution_count": 9,
     "metadata": {},
     "output_type": "execute_result"
    }
   ],
   "source": [
    "data_raw_3 = pd.read_csv(\"data/AAPL.csv\", parse_dates=[\"Date\"], index_col=\"Date\")\n",
    "data_raw_3.head()"
   ]
  },
  {
   "cell_type": "code",
   "execution_count": 11,
   "metadata": {},
   "outputs": [
    {
     "data": {
      "text/plain": [
       "DatetimeIndex(['2015-12-17', '2015-12-18', '2015-12-21', '2015-12-22',\n",
       "               '2015-12-23', '2015-12-24', '2015-12-28', '2015-12-29',\n",
       "               '2015-12-30', '2015-12-31',\n",
       "               ...\n",
       "               '2020-12-03', '2020-12-04', '2020-12-07', '2020-12-08',\n",
       "               '2020-12-09', '2020-12-10', '2020-12-11', '2020-12-14',\n",
       "               '2020-12-15', '2020-12-16'],\n",
       "              dtype='datetime64[ns]', name='Date', length=1259, freq=None)"
      ]
     },
     "execution_count": 11,
     "metadata": {},
     "output_type": "execute_result"
    }
   ],
   "source": [
    "data_raw_3.index"
   ]
  },
  {
   "cell_type": "code",
   "execution_count": 17,
   "metadata": {},
   "outputs": [
    {
     "data": {
      "text/html": [
       "<div>\n",
       "<style scoped>\n",
       "    .dataframe tbody tr th:only-of-type {\n",
       "        vertical-align: middle;\n",
       "    }\n",
       "\n",
       "    .dataframe tbody tr th {\n",
       "        vertical-align: top;\n",
       "    }\n",
       "\n",
       "    .dataframe thead th {\n",
       "        text-align: right;\n",
       "    }\n",
       "</style>\n",
       "<table border=\"1\" class=\"dataframe\">\n",
       "  <thead>\n",
       "    <tr style=\"text-align: right;\">\n",
       "      <th></th>\n",
       "      <th>Open</th>\n",
       "      <th>High</th>\n",
       "      <th>Low</th>\n",
       "      <th>Close</th>\n",
       "      <th>Adj Close</th>\n",
       "      <th>Volume</th>\n",
       "    </tr>\n",
       "    <tr>\n",
       "      <th>Date</th>\n",
       "      <th></th>\n",
       "      <th></th>\n",
       "      <th></th>\n",
       "      <th></th>\n",
       "      <th></th>\n",
       "      <th></th>\n",
       "    </tr>\n",
       "  </thead>\n",
       "  <tbody>\n",
       "    <tr>\n",
       "      <th>2016-01-04</th>\n",
       "      <td>25.652500</td>\n",
       "      <td>26.342501</td>\n",
       "      <td>25.500000</td>\n",
       "      <td>26.337500</td>\n",
       "      <td>24.400942</td>\n",
       "      <td>270597600</td>\n",
       "    </tr>\n",
       "    <tr>\n",
       "      <th>2016-01-05</th>\n",
       "      <td>26.437500</td>\n",
       "      <td>26.462500</td>\n",
       "      <td>25.602501</td>\n",
       "      <td>25.677500</td>\n",
       "      <td>23.789471</td>\n",
       "      <td>223164000</td>\n",
       "    </tr>\n",
       "    <tr>\n",
       "      <th>2016-01-06</th>\n",
       "      <td>25.139999</td>\n",
       "      <td>25.592501</td>\n",
       "      <td>24.967501</td>\n",
       "      <td>25.174999</td>\n",
       "      <td>23.323915</td>\n",
       "      <td>273829600</td>\n",
       "    </tr>\n",
       "    <tr>\n",
       "      <th>2016-01-07</th>\n",
       "      <td>24.670000</td>\n",
       "      <td>25.032499</td>\n",
       "      <td>24.107500</td>\n",
       "      <td>24.112499</td>\n",
       "      <td>22.339539</td>\n",
       "      <td>324377600</td>\n",
       "    </tr>\n",
       "    <tr>\n",
       "      <th>2016-01-08</th>\n",
       "      <td>24.637501</td>\n",
       "      <td>24.777500</td>\n",
       "      <td>24.190001</td>\n",
       "      <td>24.240000</td>\n",
       "      <td>22.457672</td>\n",
       "      <td>283192000</td>\n",
       "    </tr>\n",
       "    <tr>\n",
       "      <th>2016-01-11</th>\n",
       "      <td>24.742500</td>\n",
       "      <td>24.764999</td>\n",
       "      <td>24.334999</td>\n",
       "      <td>24.632500</td>\n",
       "      <td>22.821304</td>\n",
       "      <td>198957600</td>\n",
       "    </tr>\n",
       "    <tr>\n",
       "      <th>2016-01-12</th>\n",
       "      <td>25.137501</td>\n",
       "      <td>25.172501</td>\n",
       "      <td>24.709999</td>\n",
       "      <td>24.990000</td>\n",
       "      <td>23.152521</td>\n",
       "      <td>196616800</td>\n",
       "    </tr>\n",
       "    <tr>\n",
       "      <th>2016-01-13</th>\n",
       "      <td>25.080000</td>\n",
       "      <td>25.297501</td>\n",
       "      <td>24.325001</td>\n",
       "      <td>24.347500</td>\n",
       "      <td>22.557264</td>\n",
       "      <td>249758400</td>\n",
       "    </tr>\n",
       "    <tr>\n",
       "      <th>2016-01-14</th>\n",
       "      <td>24.490000</td>\n",
       "      <td>25.120001</td>\n",
       "      <td>23.934999</td>\n",
       "      <td>24.879999</td>\n",
       "      <td>23.050606</td>\n",
       "      <td>252680400</td>\n",
       "    </tr>\n",
       "    <tr>\n",
       "      <th>2016-01-15</th>\n",
       "      <td>24.049999</td>\n",
       "      <td>24.427500</td>\n",
       "      <td>23.840000</td>\n",
       "      <td>24.282499</td>\n",
       "      <td>22.497040</td>\n",
       "      <td>319335600</td>\n",
       "    </tr>\n",
       "    <tr>\n",
       "      <th>2016-01-19</th>\n",
       "      <td>24.602501</td>\n",
       "      <td>24.662500</td>\n",
       "      <td>23.875000</td>\n",
       "      <td>24.165001</td>\n",
       "      <td>22.388184</td>\n",
       "      <td>212350800</td>\n",
       "    </tr>\n",
       "    <tr>\n",
       "      <th>2016-01-20</th>\n",
       "      <td>23.775000</td>\n",
       "      <td>24.547501</td>\n",
       "      <td>23.355000</td>\n",
       "      <td>24.197500</td>\n",
       "      <td>22.418295</td>\n",
       "      <td>289337600</td>\n",
       "    </tr>\n",
       "    <tr>\n",
       "      <th>2016-01-21</th>\n",
       "      <td>24.264999</td>\n",
       "      <td>24.469999</td>\n",
       "      <td>23.735001</td>\n",
       "      <td>24.075001</td>\n",
       "      <td>22.304800</td>\n",
       "      <td>208646000</td>\n",
       "    </tr>\n",
       "    <tr>\n",
       "      <th>2016-01-22</th>\n",
       "      <td>24.657499</td>\n",
       "      <td>25.365000</td>\n",
       "      <td>24.592501</td>\n",
       "      <td>25.355000</td>\n",
       "      <td>23.490686</td>\n",
       "      <td>263202000</td>\n",
       "    </tr>\n",
       "    <tr>\n",
       "      <th>2016-01-25</th>\n",
       "      <td>25.379999</td>\n",
       "      <td>25.382500</td>\n",
       "      <td>24.802500</td>\n",
       "      <td>24.860001</td>\n",
       "      <td>23.032082</td>\n",
       "      <td>207178000</td>\n",
       "    </tr>\n",
       "    <tr>\n",
       "      <th>2016-01-26</th>\n",
       "      <td>24.982500</td>\n",
       "      <td>25.219999</td>\n",
       "      <td>24.517500</td>\n",
       "      <td>24.997499</td>\n",
       "      <td>23.159468</td>\n",
       "      <td>300308000</td>\n",
       "    </tr>\n",
       "    <tr>\n",
       "      <th>2016-01-27</th>\n",
       "      <td>24.010000</td>\n",
       "      <td>24.157499</td>\n",
       "      <td>23.334999</td>\n",
       "      <td>23.355000</td>\n",
       "      <td>21.637739</td>\n",
       "      <td>533478800</td>\n",
       "    </tr>\n",
       "    <tr>\n",
       "      <th>2016-01-28</th>\n",
       "      <td>23.447500</td>\n",
       "      <td>23.629999</td>\n",
       "      <td>23.097500</td>\n",
       "      <td>23.522499</td>\n",
       "      <td>21.792925</td>\n",
       "      <td>222715200</td>\n",
       "    </tr>\n",
       "    <tr>\n",
       "      <th>2016-01-29</th>\n",
       "      <td>23.697500</td>\n",
       "      <td>24.334999</td>\n",
       "      <td>23.587500</td>\n",
       "      <td>24.334999</td>\n",
       "      <td>22.545681</td>\n",
       "      <td>257666000</td>\n",
       "    </tr>\n",
       "  </tbody>\n",
       "</table>\n",
       "</div>"
      ],
      "text/plain": [
       "                 Open       High        Low      Close  Adj Close     Volume\n",
       "Date                                                                        \n",
       "2016-01-04  25.652500  26.342501  25.500000  26.337500  24.400942  270597600\n",
       "2016-01-05  26.437500  26.462500  25.602501  25.677500  23.789471  223164000\n",
       "2016-01-06  25.139999  25.592501  24.967501  25.174999  23.323915  273829600\n",
       "2016-01-07  24.670000  25.032499  24.107500  24.112499  22.339539  324377600\n",
       "2016-01-08  24.637501  24.777500  24.190001  24.240000  22.457672  283192000\n",
       "2016-01-11  24.742500  24.764999  24.334999  24.632500  22.821304  198957600\n",
       "2016-01-12  25.137501  25.172501  24.709999  24.990000  23.152521  196616800\n",
       "2016-01-13  25.080000  25.297501  24.325001  24.347500  22.557264  249758400\n",
       "2016-01-14  24.490000  25.120001  23.934999  24.879999  23.050606  252680400\n",
       "2016-01-15  24.049999  24.427500  23.840000  24.282499  22.497040  319335600\n",
       "2016-01-19  24.602501  24.662500  23.875000  24.165001  22.388184  212350800\n",
       "2016-01-20  23.775000  24.547501  23.355000  24.197500  22.418295  289337600\n",
       "2016-01-21  24.264999  24.469999  23.735001  24.075001  22.304800  208646000\n",
       "2016-01-22  24.657499  25.365000  24.592501  25.355000  23.490686  263202000\n",
       "2016-01-25  25.379999  25.382500  24.802500  24.860001  23.032082  207178000\n",
       "2016-01-26  24.982500  25.219999  24.517500  24.997499  23.159468  300308000\n",
       "2016-01-27  24.010000  24.157499  23.334999  23.355000  21.637739  533478800\n",
       "2016-01-28  23.447500  23.629999  23.097500  23.522499  21.792925  222715200\n",
       "2016-01-29  23.697500  24.334999  23.587500  24.334999  22.545681  257666000"
      ]
     },
     "execution_count": 17,
     "metadata": {},
     "output_type": "execute_result"
    }
   ],
   "source": [
    "data_raw_3[\"2016-01\"]"
   ]
  },
  {
   "cell_type": "code",
   "execution_count": 18,
   "metadata": {},
   "outputs": [
    {
     "data": {
      "text/plain": [
       "24.607236631578946"
      ]
     },
     "execution_count": 18,
     "metadata": {},
     "output_type": "execute_result"
    }
   ],
   "source": [
    "data_raw_3[\"2016-01\"].Close.mean()"
   ]
  },
  {
   "cell_type": "code",
   "execution_count": 30,
   "metadata": {},
   "outputs": [
    {
     "data": {
      "text/plain": [
       "Date\n",
       "2016-01-04    26.337500\n",
       "2016-01-05    25.677500\n",
       "2016-01-06    25.174999\n",
       "2016-01-07    24.112499\n",
       "2016-01-08    24.240000\n",
       "2016-01-11    24.632500\n",
       "2016-01-12    24.990000\n",
       "2016-01-13    24.347500\n",
       "2016-01-14    24.879999\n",
       "2016-01-15    24.282499\n",
       "2016-01-19    24.165001\n",
       "2016-01-20    24.197500\n",
       "2016-01-21    24.075001\n",
       "2016-01-22    25.355000\n",
       "2016-01-25    24.860001\n",
       "2016-01-26    24.997499\n",
       "2016-01-27    23.355000\n",
       "2016-01-28    23.522499\n",
       "2016-01-29    24.334999\n",
       "Name: Close, dtype: float64"
      ]
     },
     "execution_count": 30,
     "metadata": {},
     "output_type": "execute_result"
    }
   ],
   "source": [
    "data_raw_3[\"2016-01\"].Close"
   ]
  },
  {
   "cell_type": "code",
   "execution_count": 25,
   "metadata": {},
   "outputs": [
    {
     "data": {
      "text/html": [
       "<div>\n",
       "<style scoped>\n",
       "    .dataframe tbody tr th:only-of-type {\n",
       "        vertical-align: middle;\n",
       "    }\n",
       "\n",
       "    .dataframe tbody tr th {\n",
       "        vertical-align: top;\n",
       "    }\n",
       "\n",
       "    .dataframe thead th {\n",
       "        text-align: right;\n",
       "    }\n",
       "</style>\n",
       "<table border=\"1\" class=\"dataframe\">\n",
       "  <thead>\n",
       "    <tr style=\"text-align: right;\">\n",
       "      <th></th>\n",
       "      <th>Open</th>\n",
       "      <th>High</th>\n",
       "      <th>Low</th>\n",
       "      <th>Close</th>\n",
       "      <th>Adj Close</th>\n",
       "      <th>Volume</th>\n",
       "    </tr>\n",
       "    <tr>\n",
       "      <th>Date</th>\n",
       "      <th></th>\n",
       "      <th></th>\n",
       "      <th></th>\n",
       "      <th></th>\n",
       "      <th></th>\n",
       "      <th></th>\n",
       "    </tr>\n",
       "  </thead>\n",
       "  <tbody>\n",
       "    <tr>\n",
       "      <th>2016-01-04</th>\n",
       "      <td>25.652500</td>\n",
       "      <td>26.342501</td>\n",
       "      <td>25.500000</td>\n",
       "      <td>26.337500</td>\n",
       "      <td>24.400942</td>\n",
       "      <td>270597600</td>\n",
       "    </tr>\n",
       "    <tr>\n",
       "      <th>2016-01-05</th>\n",
       "      <td>26.437500</td>\n",
       "      <td>26.462500</td>\n",
       "      <td>25.602501</td>\n",
       "      <td>25.677500</td>\n",
       "      <td>23.789471</td>\n",
       "      <td>223164000</td>\n",
       "    </tr>\n",
       "    <tr>\n",
       "      <th>2016-01-06</th>\n",
       "      <td>25.139999</td>\n",
       "      <td>25.592501</td>\n",
       "      <td>24.967501</td>\n",
       "      <td>25.174999</td>\n",
       "      <td>23.323915</td>\n",
       "      <td>273829600</td>\n",
       "    </tr>\n",
       "    <tr>\n",
       "      <th>2016-01-07</th>\n",
       "      <td>24.670000</td>\n",
       "      <td>25.032499</td>\n",
       "      <td>24.107500</td>\n",
       "      <td>24.112499</td>\n",
       "      <td>22.339539</td>\n",
       "      <td>324377600</td>\n",
       "    </tr>\n",
       "    <tr>\n",
       "      <th>2016-01-08</th>\n",
       "      <td>24.637501</td>\n",
       "      <td>24.777500</td>\n",
       "      <td>24.190001</td>\n",
       "      <td>24.240000</td>\n",
       "      <td>22.457672</td>\n",
       "      <td>283192000</td>\n",
       "    </tr>\n",
       "    <tr>\n",
       "      <th>2016-01-11</th>\n",
       "      <td>24.742500</td>\n",
       "      <td>24.764999</td>\n",
       "      <td>24.334999</td>\n",
       "      <td>24.632500</td>\n",
       "      <td>22.821304</td>\n",
       "      <td>198957600</td>\n",
       "    </tr>\n",
       "    <tr>\n",
       "      <th>2016-01-12</th>\n",
       "      <td>25.137501</td>\n",
       "      <td>25.172501</td>\n",
       "      <td>24.709999</td>\n",
       "      <td>24.990000</td>\n",
       "      <td>23.152521</td>\n",
       "      <td>196616800</td>\n",
       "    </tr>\n",
       "    <tr>\n",
       "      <th>2016-01-13</th>\n",
       "      <td>25.080000</td>\n",
       "      <td>25.297501</td>\n",
       "      <td>24.325001</td>\n",
       "      <td>24.347500</td>\n",
       "      <td>22.557264</td>\n",
       "      <td>249758400</td>\n",
       "    </tr>\n",
       "    <tr>\n",
       "      <th>2016-01-14</th>\n",
       "      <td>24.490000</td>\n",
       "      <td>25.120001</td>\n",
       "      <td>23.934999</td>\n",
       "      <td>24.879999</td>\n",
       "      <td>23.050606</td>\n",
       "      <td>252680400</td>\n",
       "    </tr>\n",
       "    <tr>\n",
       "      <th>2016-01-15</th>\n",
       "      <td>24.049999</td>\n",
       "      <td>24.427500</td>\n",
       "      <td>23.840000</td>\n",
       "      <td>24.282499</td>\n",
       "      <td>22.497040</td>\n",
       "      <td>319335600</td>\n",
       "    </tr>\n",
       "    <tr>\n",
       "      <th>2016-01-19</th>\n",
       "      <td>24.602501</td>\n",
       "      <td>24.662500</td>\n",
       "      <td>23.875000</td>\n",
       "      <td>24.165001</td>\n",
       "      <td>22.388184</td>\n",
       "      <td>212350800</td>\n",
       "    </tr>\n",
       "    <tr>\n",
       "      <th>2016-01-20</th>\n",
       "      <td>23.775000</td>\n",
       "      <td>24.547501</td>\n",
       "      <td>23.355000</td>\n",
       "      <td>24.197500</td>\n",
       "      <td>22.418295</td>\n",
       "      <td>289337600</td>\n",
       "    </tr>\n",
       "    <tr>\n",
       "      <th>2016-01-21</th>\n",
       "      <td>24.264999</td>\n",
       "      <td>24.469999</td>\n",
       "      <td>23.735001</td>\n",
       "      <td>24.075001</td>\n",
       "      <td>22.304800</td>\n",
       "      <td>208646000</td>\n",
       "    </tr>\n",
       "  </tbody>\n",
       "</table>\n",
       "</div>"
      ],
      "text/plain": [
       "                 Open       High        Low      Close  Adj Close     Volume\n",
       "Date                                                                        \n",
       "2016-01-04  25.652500  26.342501  25.500000  26.337500  24.400942  270597600\n",
       "2016-01-05  26.437500  26.462500  25.602501  25.677500  23.789471  223164000\n",
       "2016-01-06  25.139999  25.592501  24.967501  25.174999  23.323915  273829600\n",
       "2016-01-07  24.670000  25.032499  24.107500  24.112499  22.339539  324377600\n",
       "2016-01-08  24.637501  24.777500  24.190001  24.240000  22.457672  283192000\n",
       "2016-01-11  24.742500  24.764999  24.334999  24.632500  22.821304  198957600\n",
       "2016-01-12  25.137501  25.172501  24.709999  24.990000  23.152521  196616800\n",
       "2016-01-13  25.080000  25.297501  24.325001  24.347500  22.557264  249758400\n",
       "2016-01-14  24.490000  25.120001  23.934999  24.879999  23.050606  252680400\n",
       "2016-01-15  24.049999  24.427500  23.840000  24.282499  22.497040  319335600\n",
       "2016-01-19  24.602501  24.662500  23.875000  24.165001  22.388184  212350800\n",
       "2016-01-20  23.775000  24.547501  23.355000  24.197500  22.418295  289337600\n",
       "2016-01-21  24.264999  24.469999  23.735001  24.075001  22.304800  208646000"
      ]
     },
     "execution_count": 25,
     "metadata": {},
     "output_type": "execute_result"
    }
   ],
   "source": [
    "data_raw_3[\"2016-01-04\":\"2016-01-21\"]"
   ]
  },
  {
   "cell_type": "code",
   "execution_count": 31,
   "metadata": {},
   "outputs": [
    {
     "data": {
      "text/plain": [
       "Date\n",
       "2015-12-31     26.858750\n",
       "2016-01-31     24.607237\n",
       "2016-02-29     23.936625\n",
       "2016-03-31     26.066818\n",
       "2016-04-30     26.684762\n",
       "                 ...    \n",
       "2020-08-31    117.299762\n",
       "2020-09-30    115.125237\n",
       "2020-10-31    116.413182\n",
       "2020-11-30    116.825999\n",
       "2020-12-31    123.668333\n",
       "Freq: M, Name: Close, Length: 61, dtype: float64"
      ]
     },
     "execution_count": 31,
     "metadata": {},
     "output_type": "execute_result"
    }
   ],
   "source": [
    "data_raw_3.Close.resample('M').mean()"
   ]
  },
  {
   "cell_type": "code",
   "execution_count": 36,
   "metadata": {},
   "outputs": [
    {
     "data": {
      "text/plain": [
       "<matplotlib.axes._subplots.AxesSubplot at 0x26cf967f400>"
      ]
     },
     "execution_count": 36,
     "metadata": {},
     "output_type": "execute_result"
    },
    {
     "data": {
      "image/png": "[encoded data removed]",
      "text/plain": [
       "<Figure size 432x288 with 1 Axes>"
      ]
     },
     "metadata": {
      "needs_background": "light"
     },
     "output_type": "display_data"
    }
   ],
   "source": [
    "%matplotlib inline\n",
    "data_raw_3.Close.resample('M').mean().plot()"
   ]
  },
  {
   "cell_type": "code",
   "execution_count": 43,
   "metadata": {},
   "outputs": [
    {
     "data": {
      "text/plain": [
       "<matplotlib.axes._subplots.AxesSubplot at 0x26cfa024b50>"
      ]
     },
     "execution_count": 43,
     "metadata": {},
     "output_type": "execute_result"
    },
    {
     "data": {
      "image/png": "[encoded data removed]",
      "text/plain": [
       "<Figure size 432x288 with 1 Axes>"
      ]
     },
     "metadata": {
      "needs_background": "light"
     },
     "output_type": "display_data"
    }
   ],
   "source": [
    "data_raw_3[\"2020\"].Close.resample('W').mean().plot()"
   ]
  },
  {
   "cell_type": "code",
   "execution_count": 44,
   "metadata": {},
   "outputs": [
    {
     "data": {
      "text/plain": [
       "<matplotlib.axes._subplots.AxesSubplot at 0x26cfa0d0f10>"
      ]
     },
     "execution_count": 44,
     "metadata": {},
     "output_type": "execute_result"
    },
    {
     "data": {
      "image/png": "[encoded data removed]",
      "text/plain": [
       "<Figure size 432x288 with 1 Axes>"
      ]
     },
     "metadata": {
      "needs_background": "light"
     },
     "output_type": "display_data"
    }
   ],
   "source": [
    "data_raw_3[\"2020\"].Close.resample('W').mean().plot()"
   ]
  },
  {
   "cell_type": "code",
   "execution_count": 45,
   "metadata": {},
   "outputs": [
    {
     "data": {
      "text/plain": [
       "<matplotlib.axes._subplots.AxesSubplot at 0x26cfb12fc40>"
      ]
     },
     "execution_count": 45,
     "metadata": {},
     "output_type": "execute_result"
    },
    {
     "data": {
      "image/png": "[encoded data removed]",
      "text/plain": [
       "<Figure size 432x288 with 1 Axes>"
      ]
     },
     "metadata": {
      "needs_background": "light"
     },
     "output_type": "display_data"
    }
   ],
   "source": [
    "data_raw_3[\"2017\":\"2018\"].Close.resample('Q').mean().plot()"
   ]
  },
  {
   "cell_type": "code",
   "execution_count": 47,
   "metadata": {},
   "outputs": [
    {
     "data": {
      "text/plain": [
       "<matplotlib.axes._subplots.AxesSubplot at 0x26cfb2137c0>"
      ]
     },
     "execution_count": 47,
     "metadata": {},
     "output_type": "execute_result"
    },
    {
     "data": {
      "image/png": "[encoded data removed]",
      "text/plain": [
       "<Figure size 432x288 with 1 Axes>"
      ]
     },
     "metadata": {
      "needs_background": "light"
     },
     "output_type": "display_data"
    }
   ],
   "source": [
    "data_raw_3.Close.resample('Q').mean().plot(kind='bar')"
   ]
  },
  {
   "cell_type": "code",
   "execution_count": 48,
   "metadata": {},
   "outputs": [
    {
     "data": {
      "text/plain": [
       "<matplotlib.axes._subplots.AxesSubplot at 0x26cfb29e400>"
      ]
     },
     "execution_count": 48,
     "metadata": {},
     "output_type": "execute_result"
    },
    {
     "data": {
      "image/png": "[encoded data removed]",
      "text/plain": [
       "<Figure size 432x288 with 1 Axes>"
      ]
     },
     "metadata": {
      "needs_background": "light"
     },
     "output_type": "display_data"
    }
   ],
   "source": [
    "data_raw_3.Close.resample('Q').mean().plot()"
   ]
  },
  {
   "cell_type": "code",
   "execution_count": 50,
   "metadata": {},
   "outputs": [
    {
     "data": {
      "text/plain": [
       "<matplotlib.axes._subplots.AxesSubplot at 0x26cfb213fa0>"
      ]
     },
     "execution_count": 50,
     "metadata": {},
     "output_type": "execute_result"
    },
    {
     "data": {
      "image/png": "[encoded data removed]",
      "text/plain": [
       "<Figure size 432x288 with 1 Axes>"
      ]
     },
     "metadata": {
      "needs_background": "light"
     },
     "output_type": "display_data"
    }
   ],
   "source": [
    "data_raw_3.Close.plot()"
   ]
  }
 ],
 "metadata": {
  "kernelspec": {
   "display_name": "Python 3",
   "language": "python",
   "name": "python3"
  },
  "language_info": {
   "codemirror_mode": {
    "name": "ipython",
    "version": 3
   },
   "file_extension": ".py",
   "mimetype": "text/x-python",
   "name": "python",
   "nbconvert_exporter": "python",
   "pygments_lexer": "ipython3",
   "version": "3.8.3"
  }
 },
 "nbformat": 4,
 "nbformat_minor": 4
}
