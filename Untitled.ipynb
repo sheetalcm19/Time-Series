{
 "cells": [
  {
   "cell_type": "code",
   "execution_count": 1,
   "metadata": {},
   "outputs": [],
   "source": [
    "import pandas as pd\n",
    "import numpy as np"
   ]
  },
  {
   "cell_type": "code",
   "execution_count": 3,
   "metadata": {},
   "outputs": [
    {
     "data": {
      "text/html": [
       "<div>\n",
       "<style scoped>\n",
       "    .dataframe tbody tr th:only-of-type {\n",
       "        vertical-align: middle;\n",
       "    }\n",
       "\n",
       "    .dataframe tbody tr th {\n",
       "        vertical-align: top;\n",
       "    }\n",
       "\n",
       "    .dataframe thead th {\n",
       "        text-align: right;\n",
       "    }\n",
       "</style>\n",
       "<table border=\"1\" class=\"dataframe\">\n",
       "  <thead>\n",
       "    <tr style=\"text-align: right;\">\n",
       "      <th></th>\n",
       "      <th>Date</th>\n",
       "      <th>Open</th>\n",
       "      <th>High</th>\n",
       "      <th>Low</th>\n",
       "      <th>Close</th>\n",
       "      <th>Adj Close</th>\n",
       "      <th>Volume</th>\n",
       "    </tr>\n",
       "  </thead>\n",
       "  <tbody>\n",
       "    <tr>\n",
       "      <th>0</th>\n",
       "      <td>2015-12-17</td>\n",
       "      <td>28.004999</td>\n",
       "      <td>28.062500</td>\n",
       "      <td>27.245001</td>\n",
       "      <td>27.245001</td>\n",
       "      <td>25.241716</td>\n",
       "      <td>179091200</td>\n",
       "    </tr>\n",
       "    <tr>\n",
       "      <th>1</th>\n",
       "      <td>2015-12-18</td>\n",
       "      <td>27.227501</td>\n",
       "      <td>27.379999</td>\n",
       "      <td>26.452499</td>\n",
       "      <td>26.507500</td>\n",
       "      <td>24.558443</td>\n",
       "      <td>385813200</td>\n",
       "    </tr>\n",
       "    <tr>\n",
       "      <th>2</th>\n",
       "      <td>2015-12-21</td>\n",
       "      <td>26.820000</td>\n",
       "      <td>26.842501</td>\n",
       "      <td>26.392500</td>\n",
       "      <td>26.832500</td>\n",
       "      <td>24.859543</td>\n",
       "      <td>190362400</td>\n",
       "    </tr>\n",
       "    <tr>\n",
       "      <th>3</th>\n",
       "      <td>2015-12-22</td>\n",
       "      <td>26.850000</td>\n",
       "      <td>26.930000</td>\n",
       "      <td>26.612499</td>\n",
       "      <td>26.807501</td>\n",
       "      <td>24.836382</td>\n",
       "      <td>131157600</td>\n",
       "    </tr>\n",
       "    <tr>\n",
       "      <th>4</th>\n",
       "      <td>2015-12-23</td>\n",
       "      <td>26.817499</td>\n",
       "      <td>27.212500</td>\n",
       "      <td>26.799999</td>\n",
       "      <td>27.152500</td>\n",
       "      <td>25.156017</td>\n",
       "      <td>130629600</td>\n",
       "    </tr>\n",
       "  </tbody>\n",
       "</table>\n",
       "</div>"
      ],
      "text/plain": [
       "         Date       Open       High        Low      Close  Adj Close  \\\n",
       "0  2015-12-17  28.004999  28.062500  27.245001  27.245001  25.241716   \n",
       "1  2015-12-18  27.227501  27.379999  26.452499  26.507500  24.558443   \n",
       "2  2015-12-21  26.820000  26.842501  26.392500  26.832500  24.859543   \n",
       "3  2015-12-22  26.850000  26.930000  26.612499  26.807501  24.836382   \n",
       "4  2015-12-23  26.817499  27.212500  26.799999  27.152500  25.156017   \n",
       "\n",
       "      Volume  \n",
       "0  179091200  \n",
       "1  385813200  \n",
       "2  190362400  \n",
       "3  131157600  \n",
       "4  130629600  "
      ]
     },
     "execution_count": 3,
     "metadata": {},
     "output_type": "execute_result"
    }
   ],
   "source": [
    "data_raw = pd.read_csv(\"data/AAPL.csv\")\n",
    "data_raw.head()"
   ]
  }
 ],
 "metadata": {
  "kernelspec": {
   "display_name": "Python 3",
   "language": "python",
   "name": "python3"
  },
  "language_info": {
   "codemirror_mode": {
    "name": "ipython",
    "version": 3
   },
   "file_extension": ".py",
   "mimetype": "text/x-python",
   "name": "python",
   "nbconvert_exporter": "python",
   "pygments_lexer": "ipython3",
   "version": "3.8.3"
  }
 },
 "nbformat": 4,
 "nbformat_minor": 4
}
